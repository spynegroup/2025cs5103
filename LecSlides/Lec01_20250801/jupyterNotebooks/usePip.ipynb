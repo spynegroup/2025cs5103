{
 "cells": [
  {
   "cell_type": "code",
   "execution_count": 3,
   "id": "d68a1295-661f-474b-befe-96e7c170c92f",
   "metadata": {},
   "outputs": [],
   "source": [
    "## Import the 'numpy' module into the local scope.\n",
    "## Set a module **identifier** 'np' for the 'numpy' module.\n",
    "## Setting a module identifier is very useful for modules with long names.\n",
    "## Ref: https://docs.python.org/3/reference/simple_stmts.html#import\n",
    "import numpy as np"
   ]
  },
  {
   "cell_type": "code",
   "execution_count": 2,
   "id": "f2fecd0e-767e-4b76-a5f5-a239809b2417",
   "metadata": {},
   "outputs": [
    {
     "name": "stdout",
     "output_type": "stream",
     "text": [
      "2.3.0\n"
     ]
    }
   ],
   "source": [
    "print(np.__version__)"
   ]
  },
  {
   "cell_type": "code",
   "execution_count": 7,
   "id": "89e2c364-a8e6-4dee-b1c5-ac6d92ad8dca",
   "metadata": {},
   "outputs": [
    {
     "name": "stdout",
     "output_type": "stream",
     "text": [
      "12\n"
     ]
    }
   ],
   "source": [
    "## 2 plus 2\n",
    "result = np.sum([10, 2])\n",
    "print(result)"
   ]
  },
  {
   "cell_type": "code",
   "execution_count": 5,
   "id": "f694727a-6b8f-4fee-b1b6-8c292ba22740",
   "metadata": {},
   "outputs": [
    {
     "name": "stdout",
     "output_type": "stream",
     "text": [
      "15\n"
     ]
    }
   ],
   "source": [
    "## Ref: https://www.w3schools.com/python/numpy/numpy_getting_started.asp\n",
    "arr = np.array([1, 2, 3, 4, 5])\n",
    "print(np.sum(arr))"
   ]
  },
  {
   "cell_type": "code",
   "execution_count": 5,
   "id": "b90427a3-74a0-46a8-8161-76940657ea49",
   "metadata": {},
   "outputs": [],
   "source": [
    "## We can also import a particular part of a module\n",
    "from sklearn.ensemble import RandomForestClassifier as rf"
   ]
  },
  {
   "cell_type": "code",
   "execution_count": 8,
   "id": "c0d05ee5-af0c-4320-be36-5d17fe074e92",
   "metadata": {},
   "outputs": [
    {
     "name": "stdout",
     "output_type": "stream",
     "text": [
      "['C:\\\\Users\\\\sapta\\\\anaconda3\\\\envs\\\\forSpyder\\\\python312.zip', 'C:\\\\Users\\\\sapta\\\\anaconda3\\\\envs\\\\forSpyder\\\\DLLs', 'C:\\\\Users\\\\sapta\\\\anaconda3\\\\envs\\\\forSpyder\\\\Lib', 'C:\\\\Users\\\\sapta\\\\anaconda3\\\\envs\\\\forSpyder', '', 'C:\\\\Users\\\\sapta\\\\anaconda3\\\\envs\\\\forSpyder\\\\Lib\\\\site-packages', 'C:\\\\Users\\\\sapta\\\\anaconda3\\\\envs\\\\forSpyder\\\\Lib\\\\site-packages\\\\win32', 'C:\\\\Users\\\\sapta\\\\anaconda3\\\\envs\\\\forSpyder\\\\Lib\\\\site-packages\\\\win32\\\\lib', 'C:\\\\Users\\\\sapta\\\\anaconda3\\\\envs\\\\forSpyder\\\\Lib\\\\site-packages\\\\Pythonwin']\n"
     ]
    }
   ],
   "source": [
    "## When we attempt to import a module, 'import' looks for the module\n",
    "## in the file paths specified by a system variable called 'PYTHONPATH'.\n",
    "## The file paths stored in PYTHONPATH can be printed using the \n",
    "## 'sys.path' command.\n",
    "import sys\n",
    "print(sys.path)"
   ]
  },
  {
   "cell_type": "code",
   "execution_count": null,
   "id": "819bebb7-936d-4cd0-ac62-0fa327a6eb06",
   "metadata": {},
   "outputs": [],
   "source": [
    "## We can append a new path to 'sys.path' using the command\n",
    "## 'sys.path.append'.\n",
    "sys.path.append('/path/to/add')"
   ]
  },
  {
   "cell_type": "markdown",
   "id": "fb21a537-0e31-49b9-bd87-d43ec5d53088",
   "metadata": {},
   "source": [
    "**Reference:**   \n",
    "Section 'A.3.1 Writing and Importing Code', Marsland, S. (2015). Machine Learning: An Algorithmic Perspective. Chapman & Hall/CRC. Second Edition."
   ]
  }
 ],
 "metadata": {
  "kernelspec": {
   "display_name": "Python [conda env:forSpyder]",
   "language": "python",
   "name": "conda-env-forSpyder-py"
  },
  "language_info": {
   "codemirror_mode": {
    "name": "ipython",
    "version": 3
   },
   "file_extension": ".py",
   "mimetype": "text/x-python",
   "name": "python",
   "nbconvert_exporter": "python",
   "pygments_lexer": "ipython3",
   "version": "3.12.11"
  }
 },
 "nbformat": 4,
 "nbformat_minor": 5
}
