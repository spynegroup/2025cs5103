{
 "cells": [
  {
   "cell_type": "markdown",
   "id": "0ca25ab9-9d86-4701-a6b7-0ebebf733b65",
   "metadata": {},
   "source": [
    "# Print Hello World"
   ]
  },
  {
   "cell_type": "code",
   "execution_count": 1,
   "id": "ea44d8e5-0158-4302-8de7-ea93252c0ed1",
   "metadata": {},
   "outputs": [
    {
     "name": "stdout",
     "output_type": "stream",
     "text": [
      "Hello World!\n"
     ]
    }
   ],
   "source": [
    "print('Hello World!')"
   ]
  },
  {
   "cell_type": "code",
   "execution_count": 5,
   "id": "7de61695-66fd-4d27-b110-6ddadba8d0a8",
   "metadata": {},
   "outputs": [
    {
     "name": "stdout",
     "output_type": "stream",
     "text": [
      "Hello Students! This is CS5103.\n"
     ]
    }
   ],
   "source": [
    "## Use f-string for conatenating strings\n",
    "course = 'CS5103'\n",
    "newstr = 'Students'\n",
    "\n",
    "print(f'Hello {newstr}! This is {course}.')"
   ]
  },
  {
   "cell_type": "markdown",
   "id": "cfc5c73e-6e2b-4e53-bddb-fda5d4150e6a",
   "metadata": {},
   "source": [
    "# Recapitulating Lists"
   ]
  },
  {
   "cell_type": "code",
   "execution_count": 3,
   "id": "564e8a93-426e-478f-9b7f-39dd09f1e52d",
   "metadata": {},
   "outputs": [
    {
     "name": "stdout",
     "output_type": "stream",
     "text": [
      "['CDS', 'DPS', 'DCS', 'DBS', 'DMS', 'DES', 'CESSI', 'HSS']\n",
      "8\n",
      "<class 'list'>\n",
      "CDS\n",
      "['CDS', 'DPS']\n",
      "HSS\n",
      "['CDS', 'DPS', 'DCS', 'DBS', 'DMS', 'DES', 'CESSI', 'HSS', 'newDept']\n"
     ]
    }
   ],
   "source": [
    "## Use lists.\n",
    "## Ref: https://www.w3schools.com/python/python_lists.asp\n",
    "depts = ['CDS', 'DPS', 'DCS', 'DBS', 'DMS', 'DES', 'CESSI', 'HSS']\n",
    "print(depts)\n",
    "\n",
    "print(len(depts))\n",
    "\n",
    "print(type(depts))\n",
    "\n",
    "## Print the first item in the list\n",
    "print(depts[0])\n",
    "\n",
    "## Print the first two items in the list\n",
    "print(depts[0:2])\n",
    "\n",
    "## Print the last item in the list\n",
    "print(depts[-1])\n",
    "\n",
    "## Append a new item to the list\n",
    "depts.append('newDept')\n",
    "print(depts)"
   ]
  },
  {
   "cell_type": "code",
   "execution_count": 4,
   "id": "c69d844b-d41f-46ec-886f-4ffc8e4c0a78",
   "metadata": {},
   "outputs": [
    {
     "name": "stdout",
     "output_type": "stream",
     "text": [
      "['CDS', 'DCS', 'CESSI']\n"
     ]
    }
   ],
   "source": [
    "## Use the 'list comprehension' technique.\n",
    "## It helps us to write shorter code.\n",
    "newlist = [x for x in depts if \"C\" in x]\n",
    "print(newlist)"
   ]
  },
  {
   "cell_type": "markdown",
   "id": "a5180098-e19c-43fb-936b-e4fb54b97be7",
   "metadata": {},
   "source": [
    "# Recapitulating Dictionaries"
   ]
  },
  {
   "cell_type": "code",
   "execution_count": 3,
   "id": "48abef8e-92a3-416f-998b-12e5e6633221",
   "metadata": {},
   "outputs": [
    {
     "name": "stdout",
     "output_type": "stream",
     "text": [
      "<class 'dict'>\n",
      "{'brand': 'Ford', 'model': 'Mustang', 'year': 1964, 'colors': ['red', 'white', 'blue']}\n",
      "dict_keys(['brand', 'model', 'year', 'colors'])\n",
      "Mustang\n",
      "dict_values(['Ford', 'Mustang', 1964, ['red', 'white', 'blue']])\n",
      "dict_items([('brand', 'Ford'), ('model', 'Mustang'), ('year', 1964), ('colors', ['red', 'white', 'blue'])])\n",
      "dict_items([('brand', 'Ford'), ('model', 'Mustang'), ('year', 1964), ('colors', ['red', 'white', 'blue']), ('seller', 'Ganges Ford')])\n",
      "Found\n"
     ]
    }
   ],
   "source": [
    "## Use dictionaries.\n",
    "## Ref: https://www.w3schools.com/python/python_dictionaries.asp\n",
    "mydict = {\n",
    "    \"brand\": \"Ford\",\n",
    "    \"model\": \"Mustang\",\n",
    "    \"year\": 1964,\n",
    "    \"colors\": [\"red\", \"white\", \"blue\"]\n",
    "}\n",
    "print(type(mydict))\n",
    "\n",
    "print(mydict)\n",
    "\n",
    "print(mydict.keys())\n",
    "print(mydict[\"model\"])\n",
    "\n",
    "print(mydict.values())\n",
    "\n",
    "print(mydict.items())\n",
    "\n",
    "mydict[\"seller\"] = \"Ganges Ford\"\n",
    "print(mydict.items())\n",
    "\n",
    "if \"seller\" in mydict:\n",
    "    print(\"Found\")"
   ]
  },
  {
   "cell_type": "markdown",
   "id": "f4e678d1-bbe5-48a1-8813-9f88ac0864cd",
   "metadata": {},
   "source": [
    "Resources recommended by Kripa Sir:   \n",
    "Core Python Programming. R. Nageswara Rao.   \n",
    "https://www.w3schools.com/python/   \n",
    "https://www.py4e.com/lessons   \n",
    "https://automatetheboringstuff.com/   \n",
    "https://www.w3resource.com/ (for unlimited exercise problems)"
   ]
  },
  {
   "cell_type": "code",
   "execution_count": null,
   "id": "98353471-c67d-4a05-81f2-0ebda24cd7e0",
   "metadata": {},
   "outputs": [],
   "source": []
  }
 ],
 "metadata": {
  "kernelspec": {
   "display_name": "Python [conda env:forSpyder]",
   "language": "python",
   "name": "conda-env-forSpyder-py"
  },
  "language_info": {
   "codemirror_mode": {
    "name": "ipython",
    "version": 3
   },
   "file_extension": ".py",
   "mimetype": "text/x-python",
   "name": "python",
   "nbconvert_exporter": "python",
   "pygments_lexer": "ipython3",
   "version": "3.12.11"
  }
 },
 "nbformat": 4,
 "nbformat_minor": 5
}
